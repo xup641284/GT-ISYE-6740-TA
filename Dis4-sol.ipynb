{
 "cells": [
  {
   "cell_type": "markdown",
   "metadata": {},
   "source": [
    "# Discussion 4: Logistic Regression with digits data and model performance"
   ]
  },
  {
   "cell_type": "markdown",
   "metadata": {},
   "source": [
    "# 1. View the digits data"
   ]
  },
  {
   "cell_type": "code",
   "execution_count": 1,
   "metadata": {},
   "outputs": [
    {
     "name": "stdout",
     "output_type": "stream",
     "text": [
      "Image Data Shape (1797, 64)\n",
      "Label Data Shape (1797,)\n",
      "Example image \n",
      " [[ 0.  0.  5. 13.  9.  1.  0.  0.  0.  0. 13. 15. 10. 15.  5.  0.  0.  3.\n",
      "  15.  2.  0. 11.  8.  0.  0.  4. 12.  0.  0.  8.  8.  0.  0.  5.  8.  0.\n",
      "   0.  9.  8.  0.  0.  4. 11.  0.  1. 12.  7.  0.  0.  2. 14.  5. 10. 12.\n",
      "   0.  0.  0.  0.  6. 13. 10.  0.  0.  0.]\n",
      " [ 0.  0.  0. 12. 13.  5.  0.  0.  0.  0.  0. 11. 16.  9.  0.  0.  0.  0.\n",
      "   3. 15. 16.  6.  0.  0.  0.  7. 15. 16. 16.  2.  0.  0.  0.  0.  1. 16.\n",
      "  16.  3.  0.  0.  0.  0.  1. 16. 16.  6.  0.  0.  0.  0.  1. 16. 16.  6.\n",
      "   0.  0.  0.  0.  0. 11. 16. 10.  0.  0.]\n",
      " [ 0.  0.  0.  4. 15. 12.  0.  0.  0.  0.  3. 16. 15. 14.  0.  0.  0.  0.\n",
      "   8. 13.  8. 16.  0.  0.  0.  0.  1.  6. 15. 11.  0.  0.  0.  1.  8. 13.\n",
      "  15.  1.  0.  0.  0.  9. 16. 16.  5.  0.  0.  0.  0.  3. 13. 16. 16. 11.\n",
      "   5.  0.  0.  0.  0.  3. 11. 16.  9.  0.]\n",
      " [ 0.  0.  7. 15. 13.  1.  0.  0.  0.  8. 13.  6. 15.  4.  0.  0.  0.  2.\n",
      "   1. 13. 13.  0.  0.  0.  0.  0.  2. 15. 11.  1.  0.  0.  0.  0.  0.  1.\n",
      "  12. 12.  1.  0.  0.  0.  0.  0.  1. 10.  8.  0.  0.  0.  8.  4.  5. 14.\n",
      "   9.  0.  0.  0.  7. 13. 13.  9.  0.  0.]\n",
      " [ 0.  0.  0.  1. 11.  0.  0.  0.  0.  0.  0.  7.  8.  0.  0.  0.  0.  0.\n",
      "   1. 13.  6.  2.  2.  0.  0.  0.  7. 15.  0.  9.  8.  0.  0.  5. 16. 10.\n",
      "   0. 16.  6.  0.  0.  4. 15. 16. 13. 16.  1.  0.  0.  0.  0.  3. 15. 10.\n",
      "   0.  0.  0.  0.  0.  2. 16.  4.  0.  0.]]\n",
      "Example label \n",
      " [0 1 2 3 4 5 6 7 8 9 0 1 2 3 4 5 6 7 8 9]\n"
     ]
    }
   ],
   "source": [
    "from sklearn.datasets import load_digits\n",
    "digits = load_digits()\n",
    "# 1797 images, 8 by 8 for dimensionality 64  \n",
    "imgdata = digits.data.shape\n",
    "# 1797 labels from integer 0-9 \n",
    "labeldata = digits.target.shape\n",
    "print(\"Image Data Shape\", imgdata)\n",
    "print(\"Label Data Shape\", labeldata)\n",
    "print(\"Example image \\n\", digits.data[0:5])\n",
    "print(\"Example label \\n\", digits.target[0:20])"
   ]
  },
  {
   "cell_type": "markdown",
   "metadata": {},
   "source": [
    "# 2. Show the images and labels"
   ]
  },
  {
   "cell_type": "code",
   "execution_count": 6,
   "metadata": {},
   "outputs": [
    {
     "data": {
      "image/png": "[encoded data removed]",
      "text/plain": [
       "<Figure size 1440x288 with 5 Axes>"
      ]
     },
     "metadata": {
      "needs_background": "light"
     },
     "output_type": "display_data"
    }
   ],
   "source": [
    "import numpy as np \n",
    "import matplotlib.pyplot as plt\n",
    "\n",
    "plt.figure(figsize=(20,4))\n",
    "\n",
    "# zip 5 digits data and 5 labels first\n",
    "# index (enumerate) to plot 5 pictures altogether\n",
    "\n",
    "for plotindex, (image, label) in enumerate(zip(digits.data[0:5], digits.target[0:5])):\n",
    "    # image is one row with dimensonality 64 \n",
    "    # label is one label between 0-9\n",
    "    plt.subplot(1, 5, plotindex + 1)\n",
    "    \n",
    "    # reshape image 64 to 8 x 8\n",
    "    plt.imshow(np.reshape(image, (8,8)), cmap=plt.cm.hot) # can also use plt.cm.gray\n",
    "    \n",
    "    # title with index\n",
    "    plt.title('Training: %i \\n' % label, fontsize = 20)\n",
    "plt.show()"
   ]
  },
  {
   "cell_type": "markdown",
   "metadata": {},
   "source": [
    "# 3. Split to train/test data"
   ]
  },
  {
   "cell_type": "code",
   "execution_count": 5,
   "metadata": {},
   "outputs": [],
   "source": [
    "from sklearn import utils\n",
    "\n",
    "# scale image to 255 and avoid computation errors\n",
    "img = digits.data / 255.0\n",
    "\n",
    "Ntotal = len(digits.target)\n",
    "Ntrain = int(Ntotal * 0.8)\n",
    "Ntest = Ntotal-Ntrain\n",
    "\n",
    "x_shuffled, y_shuffled = utils.shuffle(img, digits.target) #Shuffles X and y arrays in unison\n",
    "# Split predictors into train/test\n",
    "xtrain = x_shuffled[:Ntrain]\n",
    "xtest = x_shuffled[Ntrain:]\n",
    "# Split the targets into train/test\n",
    "ytrain = y_shuffled[:Ntrain]\n",
    "ytest = y_shuffled[Ntrain:]"
   ]
  },
  {
   "cell_type": "code",
   "execution_count": 8,
   "metadata": {},
   "outputs": [],
   "source": [
    "## Can also use package from sklearn to split train/test data\n",
    "#from sklearn.model_selection import train_test_split\n",
    "#xtrain, xtest, ytrain, ytest = train_test_split(img, digits.target, test_size=0.2, random_state=0)"
   ]
  },
  {
   "cell_type": "markdown",
   "metadata": {},
   "source": [
    "# 4. Modeling pattern with Logistic Regression"
   ]
  },
  {
   "cell_type": "code",
   "execution_count": 9,
   "metadata": {},
   "outputs": [
    {
     "data": {
      "text/plain": [
       "0.8805555555555555"
      ]
     },
     "execution_count": 9,
     "metadata": {},
     "output_type": "execute_result"
    }
   ],
   "source": [
    "from sklearn.linear_model import LogisticRegression\n",
    "\n",
    "LR = LogisticRegression()\n",
    "LR.fit(xtrain, ytrain)\n",
    "predictions = LR.predict(xtest)\n",
    "score = LR.score(xtest, ytest)\n",
    "score"
   ]
  },
  {
   "cell_type": "markdown",
   "metadata": {},
   "source": [
    "## Modeling pattern with penalty \"L1\" Logistic Regression"
   ]
  },
  {
   "cell_type": "code",
   "execution_count": 10,
   "metadata": {},
   "outputs": [
    {
     "data": {
      "text/plain": [
       "0.8888888888888888"
      ]
     },
     "execution_count": 10,
     "metadata": {},
     "output_type": "execute_result"
    }
   ],
   "source": [
    "# penalty \"l1\" lasso regression, default is \"l2\"\n",
    "# solver can be \"saga\" or \"liblinear\" for lasso\n",
    "# max_iter should over 100 to converge the data\n",
    "LRlasso = LogisticRegression(penalty = \"l1\", solver = \"saga\", max_iter = 1000)\n",
    "LRlasso.fit(xtrain, ytrain)\n",
    "lassopredictions = LRlasso.predict(xtest)\n",
    "lassoscore = LRlasso.score(xtest, ytest)\n",
    "lassoscore"
   ]
  },
  {
   "cell_type": "markdown",
   "metadata": {},
   "source": [
    "# 5. Confusion Matrix for Logistic Regression (LR)"
   ]
  },
  {
   "cell_type": "markdown",
   "metadata": {},
   "source": [
    "### Only plot the simple confusion matrix"
   ]
  },
  {
   "cell_type": "code",
   "execution_count": 11,
   "metadata": {},
   "outputs": [
    {
     "name": "stdout",
     "output_type": "stream",
     "text": [
      "[[37  0  0  0  0  0  0  0  0  0]\n",
      " [ 0 27  1  0  0  0  0  0  1  3]\n",
      " [ 0  1 35  1  0  0  0  0  0  0]\n",
      " [ 0  0  0 31  0  0  0  2  0  0]\n",
      " [ 0  0  0  0 32  0  0  1  1  0]\n",
      " [ 0  0  0  0  1 33  1  0  0  5]\n",
      " [ 0  0  0  0  0  0 38  0  0  0]\n",
      " [ 0  0  0  0  0  1  0 39  0  0]\n",
      " [ 0  8  0  1  0  1  2  0 19  4]\n",
      " [ 0  1  0  0  3  1  0  2  1 26]]\n"
     ]
    }
   ],
   "source": [
    "from sklearn import metrics\n",
    "cm = metrics.confusion_matrix(ytest, predictions)\n",
    "print(cm)"
   ]
  },
  {
   "cell_type": "markdown",
   "metadata": {},
   "source": [
    "### Write the classification report with precision , recall and F1-score"
   ]
  },
  {
   "cell_type": "code",
   "execution_count": 12,
   "metadata": {},
   "outputs": [
    {
     "name": "stdout",
     "output_type": "stream",
     "text": [
      "              precision    recall  f1-score   support\n",
      "\n",
      "           0       1.00      1.00      1.00        37\n",
      "           1       0.73      0.84      0.78        32\n",
      "           2       0.97      0.95      0.96        37\n",
      "           3       0.94      0.94      0.94        33\n",
      "           4       0.89      0.94      0.91        34\n",
      "           5       0.92      0.82      0.87        40\n",
      "           6       0.93      1.00      0.96        38\n",
      "           7       0.89      0.97      0.93        40\n",
      "           8       0.86      0.54      0.67        35\n",
      "           9       0.68      0.76      0.72        34\n",
      "\n",
      "    accuracy                           0.88       360\n",
      "   macro avg       0.88      0.88      0.87       360\n",
      "weighted avg       0.88      0.88      0.88       360\n",
      "\n"
     ]
    }
   ],
   "source": [
    "from sklearn.metrics import classification_report\n",
    "\n",
    "# TP = True Positive \n",
    "# FP = False Positive\n",
    "# TN = True Negative\n",
    "# FN = False Negative\n",
    "\n",
    "# Precision, TP / (TP + FP)\n",
    "# Recall, TP/ (TP + TN)\n",
    "# Accuracy, (TP + TN) / (TP + TN + FP + FN)\n",
    "# F1-score, 2 * Precision * Recall / (Precision + Recall)\n",
    "\n",
    "print(classification_report(ytest, predictions))\n"
   ]
  },
  {
   "cell_type": "markdown",
   "metadata": {},
   "source": [
    "# 6. See the misclassifed digits "
   ]
  },
  {
   "cell_type": "code",
   "execution_count": 13,
   "metadata": {},
   "outputs": [],
   "source": [
    "# set the index to be 0 at first\n",
    "index = 0\n",
    "misclassified = []\n",
    "for index, (label, predict) in enumerate(zip(ytest, predictions)):\n",
    "    if label != predict: \n",
    "        misclassified.append(index)\n",
    "        index = index + 1"
   ]
  },
  {
   "cell_type": "code",
   "execution_count": 14,
   "metadata": {},
   "outputs": [
    {
     "data": {
      "image/png": "[encoded data removed]",
      "text/plain": [
       "<Figure size 1440x288 with 5 Axes>"
      ]
     },
     "metadata": {
      "needs_background": "light"
     },
     "output_type": "display_data"
    }
   ],
   "source": [
    "plt.figure(figsize=(20,4))\n",
    "\n",
    "for plotindex, badindex in enumerate(misclassified[0:5]):\n",
    "    # draw the false prediction plots altogether\n",
    "    # plot index will be [0:5] \n",
    "    # badindex will be the wrong predicted value index\n",
    "    \n",
    "    plt.subplot(1, 5, plotindex + 1)\n",
    "    # xtest is the pixels test data \n",
    "    # reshape 64 to 8 x 8 \n",
    "    plt.imshow(np.reshape(xtest[badindex], (8,8)), cmap=plt.cm.hot) # can also use plt.cm.gray\n",
    "    # plot title with values\n",
    "    plt.title(\"Predicted: {}, True: {} \\n\".format(predictions[badindex], ytest[badindex]), fontsize = 20)\n"
   ]
  },
  {
   "cell_type": "code",
   "execution_count": null,
   "metadata": {},
   "outputs": [],
   "source": []
  }
 ],
 "metadata": {
  "kernelspec": {
   "display_name": "Python 3",
   "language": "python",
   "name": "python3"
  },
  "language_info": {
   "codemirror_mode": {
    "name": "ipython",
    "version": 3
   },
   "file_extension": ".py",
   "mimetype": "text/x-python",
   "name": "python",
   "nbconvert_exporter": "python",
   "pygments_lexer": "ipython3",
   "version": "3.7.1"
  }
 },
 "nbformat": 4,
 "nbformat_minor": 2
}
