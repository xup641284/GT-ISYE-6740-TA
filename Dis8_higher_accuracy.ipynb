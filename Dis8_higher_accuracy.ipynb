{
 "cells": [
  {
   "cell_type": "markdown",
   "metadata": {},
   "source": [
    "# Discussion: CIFAR10 Classification with Convolutional Neural Network "
   ]
  },
  {
   "cell_type": "markdown",
   "metadata": {},
   "source": [
    "# Install Pytorch from the tutorial\n",
    "https://pytorch.org/get-started/locally/#start-locally"
   ]
  },
  {
   "cell_type": "markdown",
   "metadata": {},
   "source": [
    "### The code and example are adapted from the Pytorch tutorial"
   ]
  },
  {
   "cell_type": "markdown",
   "metadata": {},
   "source": [
    "# Preprocess and visualize the data\n",
    "### Loading the data will take 5 minutes"
   ]
  },
  {
   "cell_type": "code",
   "execution_count": 1,
   "metadata": {},
   "outputs": [
    {
     "name": "stdout",
     "output_type": "stream",
     "text": [
      "Files already downloaded and verified\n",
      "Files already downloaded and verified\n"
     ]
    }
   ],
   "source": [
    "import torch\n",
    "import torchvision\n",
    "import numpy as np\n",
    "from torchvision import datasets, models, transforms\n",
    "\n",
    "\n",
    "# It will use the user agent for the entire script\n",
    "\n",
    "from six.moves import urllib\n",
    "opener = urllib.request.build_opener()\n",
    "opener.addheaders = [('User-agent', 'Mozilla/5.0')]\n",
    "urllib.request.install_opener(opener)\n",
    "\n",
    "# load the CIFAR10 data\n",
    "\n",
    "transform = transforms.Compose(\n",
    "    [transforms.ToTensor(),\n",
    "     transforms.Normalize([0.5, 0.5, 0.5], [0.5, 0.5, 0.5])])\n",
    "\n",
    "trainset = torchvision.datasets.CIFAR10(root='./data', train=True,\n",
    "                                        download=True, transform=transform)\n",
    "train_loader = torch.utils.data.DataLoader(trainset, batch_size=4,\n",
    "                                          shuffle=True, num_workers=2)\n",
    "\n",
    "testset = torchvision.datasets.CIFAR10(root='./data', train=False,\n",
    "                                       download=True, transform=transform)\n",
    "test_loader = torch.utils.data.DataLoader(testset, batch_size=4,\n",
    "                                         shuffle=False, num_workers=2)\n"
   ]
  },
  {
   "cell_type": "code",
   "execution_count": 3,
   "metadata": {},
   "outputs": [
    {
     "data": {
      "image/png": "[encoded data removed]",
      "text/plain": [
       "<Figure size 1440x288 with 4 Axes>"
      ]
     },
     "metadata": {
      "needs_background": "light"
     },
     "output_type": "display_data"
    }
   ],
   "source": [
    "import numpy as np\n",
    "import matplotlib.pyplot as plt\n",
    "\n",
    "# The CIFAR10 has more classes and data in each class than the MNIST data. \n",
    "# Therefore, it will be a harder problem to predict the data with high accuracy\n",
    "\n",
    "# get some random training images\n",
    "dataiter = iter(train_loader)\n",
    "images, labels = dataiter.next()\n",
    "\n",
    "classes = ('plane', 'car', 'bird', 'cat',\n",
    "           'deer', 'dog', 'frog', 'horse', 'ship', 'truck')\n",
    "\n",
    "# functions to show images\n",
    "\n",
    "# plot 4 images to visualize the data\n",
    "\n",
    "rows = 1\n",
    "columns = 4\n",
    "fig = plt.figure(figsize = (20,4))\n",
    "for i in range(4):\n",
    "    \n",
    "    plt.subplot(rows, columns, i+1)\n",
    "    plt.title('label = ' + classes[labels[i]], fontsize = 20)\n",
    "    \n",
    "    # unnormalize the image\n",
    "    img = images[i] / 2 + 0.5\n",
    "    img = torchvision.transforms.ToPILImage()(img)\n",
    "    plt.imshow(img)\n",
    "    \n",
    "plt.show()"
   ]
  },
  {
   "cell_type": "markdown",
   "metadata": {},
   "source": [
    "# 1. Create the Convolutional Neural Netowrk model (3 channels) in Pytorch"
   ]
  },
  {
   "cell_type": "code",
   "execution_count": 4,
   "metadata": {},
   "outputs": [],
   "source": [
    "import torch.nn as nn\n",
    "import torch.nn.functional as F\n",
    "\n",
    "# nn is class with various functions including the Conv2d, MaxPool2d, Linear we will use in the model\n",
    "\n",
    "# torch.nn.functional is the function API call that will be used to call the ReLU function\n",
    "# so it can add in your own forward function\n",
    "\n",
    "class Net(nn.Module):\n",
    "    def __init__(self):\n",
    "        super(Net, self).__init__()\n",
    "        \n",
    "        # The sequence is that the first layer is a Conv2D layer with \n",
    "        # an input shape of 3 and output shape of 6 with a kernel size of 5\n",
    "        self.conv1 = nn.Conv2d(3, 6, 5)\n",
    "        \n",
    "        # Have a MaxPool2d layer\n",
    "        \n",
    "        self.pool = nn.MaxPool2d(2, 2)\n",
    "        \n",
    "        # The sequence is that the first layer is a Conv2D layer with \n",
    "        # an input shape of 6 and output shape of 16 with a kernel size of 5\n",
    "        \n",
    "        self.conv2 = nn.Conv2d(6, 16, 5)\n",
    "        \n",
    "        self.fc1 = nn.Linear(16 * 5 * 5, 120)\n",
    "        self.fc2 = nn.Linear(120, 84)\n",
    "        self.fc3 = nn.Linear(84, 10)\n",
    "\n",
    "    def forward(self, x):\n",
    "        \n",
    "        # ReLU activation function\n",
    "        # a simple function which allows positive values to pass through\n",
    "        # whereas negative values are modified to zero \n",
    "        \n",
    "        x = self.conv1(x)\n",
    "        x = F.relu(x)\n",
    "        x = self.pool(x)\n",
    "        \n",
    "        x = self.conv2(x)\n",
    "        x = F.relu(x)\n",
    "        x = self.pool(x)\n",
    "        \n",
    "        # The view function reshapes the output to match the dimensions required for the final layer.\n",
    "        \n",
    "        x = x.view(-1, 16 * 5 * 5)\n",
    "        \n",
    "        x = self.fc1(x)\n",
    "        x = F.relu(x)\n",
    "        x = self.fc2(x)\n",
    "        x = F.relu(x)\n",
    "        x = self.fc3(x)\n",
    "        return x"
   ]
  },
  {
   "cell_type": "markdown",
   "metadata": {},
   "source": [
    "### The forward process will take the input shape and pass it to the first conv2d layer. Then from there, it will be feed into the maxpool2d and finally put into the ReLU activation function.  The second conv2d layer will then take the output shape from first conv2d layer and feed into the second maxpool2d and second ReLU function. After that, the input will be reshaped into (-1,16 x 5 x 5) and feed into the 3 fc layers to predict the output."
   ]
  },
  {
   "cell_type": "markdown",
   "metadata": {},
   "source": [
    "# 2. Train the model"
   ]
  },
  {
   "cell_type": "code",
   "execution_count": 5,
   "metadata": {},
   "outputs": [],
   "source": [
    "import torch.optim as optim\n",
    "\n",
    "# The class to train the model\n",
    "net = Net()\n",
    "\n",
    "# Before the training process, it is required to set up the criterion and optimizer function.\n",
    "\n",
    "# criterion, CrossEntropyLoss. \n",
    "# optimizer, you will use the (stochastic gradient descent) SGD with a learning rate of 0.001 and a momentum of 0.9 \n",
    "\n",
    "criterion = nn.CrossEntropyLoss()\n",
    "optimizer = optim.SGD(net.parameters(), lr=0.001, momentum=0.9)"
   ]
  },
  {
   "cell_type": "markdown",
   "metadata": {},
   "source": [
    "## The prediction loss in each iteration"
   ]
  },
  {
   "cell_type": "code",
   "execution_count": 6,
   "metadata": {},
   "outputs": [
    {
     "name": "stdout",
     "output_type": "stream",
     "text": [
      "[1,  2000] loss: 2.213\n",
      "[1,  4000] loss: 1.929\n",
      "[1,  6000] loss: 1.712\n",
      "[1,  8000] loss: 1.595\n",
      "[1, 10000] loss: 1.525\n",
      "[1, 12000] loss: 1.478\n",
      "[2,  2000] loss: 1.416\n",
      "[2,  4000] loss: 1.391\n",
      "[2,  6000] loss: 1.361\n",
      "[2,  8000] loss: 1.362\n",
      "[2, 10000] loss: 1.299\n",
      "[2, 12000] loss: 1.284\n",
      "[3,  2000] loss: 1.223\n",
      "[3,  4000] loss: 1.209\n",
      "[3,  6000] loss: 1.216\n",
      "[3,  8000] loss: 1.189\n",
      "[3, 10000] loss: 1.206\n",
      "[3, 12000] loss: 1.173\n",
      "[4,  2000] loss: 1.103\n",
      "[4,  4000] loss: 1.114\n",
      "[4,  6000] loss: 1.098\n",
      "[4,  8000] loss: 1.102\n",
      "[4, 10000] loss: 1.117\n",
      "[4, 12000] loss: 1.091\n",
      "[5,  2000] loss: 1.029\n",
      "[5,  4000] loss: 1.042\n",
      "[5,  6000] loss: 0.991\n",
      "[5,  8000] loss: 1.037\n",
      "[5, 10000] loss: 1.038\n",
      "[5, 12000] loss: 1.036\n",
      "[6,  2000] loss: 0.943\n",
      "[6,  4000] loss: 0.963\n",
      "[6,  6000] loss: 0.980\n",
      "[6,  8000] loss: 0.971\n",
      "[6, 10000] loss: 0.970\n",
      "[6, 12000] loss: 0.972\n",
      "[7,  2000] loss: 0.897\n",
      "[7,  4000] loss: 0.914\n",
      "[7,  6000] loss: 0.923\n",
      "[7,  8000] loss: 0.924\n",
      "[7, 10000] loss: 0.954\n",
      "[7, 12000] loss: 0.927\n",
      "[8,  2000] loss: 0.839\n",
      "[8,  4000] loss: 0.850\n",
      "[8,  6000] loss: 0.883\n",
      "[8,  8000] loss: 0.903\n",
      "[8, 10000] loss: 0.910\n",
      "[8, 12000] loss: 0.902\n",
      "[9,  2000] loss: 0.787\n",
      "[9,  4000] loss: 0.832\n",
      "[9,  6000] loss: 0.863\n",
      "[9,  8000] loss: 0.859\n",
      "[9, 10000] loss: 0.878\n",
      "[9, 12000] loss: 0.859\n",
      "[10,  2000] loss: 0.770\n",
      "[10,  4000] loss: 0.800\n",
      "[10,  6000] loss: 0.837\n",
      "[10,  8000] loss: 0.836\n",
      "[10, 10000] loss: 0.809\n",
      "[10, 12000] loss: 0.840\n",
      "[11,  2000] loss: 0.734\n",
      "[11,  4000] loss: 0.779\n",
      "[11,  6000] loss: 0.786\n",
      "[11,  8000] loss: 0.812\n",
      "[11, 10000] loss: 0.821\n",
      "[11, 12000] loss: 0.811\n",
      "[12,  2000] loss: 0.697\n",
      "[12,  4000] loss: 0.749\n",
      "[12,  6000] loss: 0.769\n",
      "[12,  8000] loss: 0.788\n",
      "[12, 10000] loss: 0.774\n",
      "[12, 12000] loss: 0.811\n",
      "[13,  2000] loss: 0.686\n",
      "[13,  4000] loss: 0.692\n",
      "[13,  6000] loss: 0.753\n",
      "[13,  8000] loss: 0.773\n",
      "[13, 10000] loss: 0.792\n",
      "[13, 12000] loss: 0.772\n",
      "[14,  2000] loss: 0.675\n",
      "[14,  4000] loss: 0.713\n",
      "[14,  6000] loss: 0.727\n",
      "[14,  8000] loss: 0.736\n",
      "[14, 10000] loss: 0.737\n",
      "[14, 12000] loss: 0.760\n",
      "[15,  2000] loss: 0.659\n",
      "[15,  4000] loss: 0.686\n",
      "[15,  6000] loss: 0.711\n",
      "[15,  8000] loss: 0.753\n",
      "[15, 10000] loss: 0.714\n",
      "[15, 12000] loss: 0.743\n",
      "[16,  2000] loss: 0.631\n",
      "[16,  4000] loss: 0.675\n",
      "[16,  6000] loss: 0.709\n",
      "[16,  8000] loss: 0.715\n",
      "[16, 10000] loss: 0.721\n",
      "[16, 12000] loss: 0.743\n",
      "[17,  2000] loss: 0.612\n",
      "[17,  4000] loss: 0.662\n",
      "[17,  6000] loss: 0.657\n",
      "[17,  8000] loss: 0.716\n",
      "[17, 10000] loss: 0.701\n",
      "[17, 12000] loss: 0.730\n",
      "[18,  2000] loss: 0.602\n",
      "[18,  4000] loss: 0.641\n",
      "[18,  6000] loss: 0.655\n",
      "[18,  8000] loss: 0.677\n",
      "[18, 10000] loss: 0.687\n",
      "[18, 12000] loss: 0.725\n",
      "[19,  2000] loss: 0.591\n",
      "[19,  4000] loss: 0.600\n",
      "[19,  6000] loss: 0.651\n",
      "[19,  8000] loss: 0.674\n",
      "[19, 10000] loss: 0.699\n",
      "[19, 12000] loss: 0.706\n",
      "[20,  2000] loss: 0.560\n",
      "[20,  4000] loss: 0.619\n",
      "[20,  6000] loss: 0.656\n",
      "[20,  8000] loss: 0.673\n",
      "[20, 10000] loss: 0.695\n",
      "[20, 12000] loss: 0.669\n",
      "Training finished\n"
     ]
    }
   ],
   "source": [
    "# iterate dataset 2 times\n",
    "\n",
    "## 1. Clear the gradients in the optimizer. The backward() function accumulates gradients, we don’t want to mix values between mini batches.\n",
    "## 2. Feed the data through the convolution net. This calls the net = Net() function and gets its output.\n",
    "## 3. Calculate the loss by the outputs and actual labels.\n",
    "## 4. Backpropagate the gradients.\n",
    "## 5. Update the parameters based on the back propagated values.\n",
    "\n",
    "for epoch in range(20): \n",
    "    \n",
    "    #set the running loss at each epoch to zero\n",
    "    \n",
    "    running_loss = 0.0\n",
    "    \n",
    "    # enumerate the train loader with starting index = 0\n",
    "    # for each iteration (i) and the data (tuple of input data and labels)\n",
    "    \n",
    "    for i, data in enumerate(train_loader, 0):\n",
    "        inputs, labels = data\n",
    "        \n",
    "        # clear the gradient\n",
    "        optimizer.zero_grad()\n",
    "        \n",
    "        # prediction error\n",
    "        \n",
    "        # feed the input and acquire the output from network\n",
    "        outputs = net(inputs)\n",
    "        # calculating the predicted and the expected loss\n",
    "        loss = criterion(outputs, labels)\n",
    "\n",
    "        # backpropagation\n",
    "        \n",
    "        # compute the gradient \n",
    "        loss.backward()\n",
    "        # update the parameters\n",
    "        optimizer.step()\n",
    "\n",
    "        # print statistics in each iteration\n",
    "        running_loss = running_loss + loss.item()\n",
    "        # print every 2000 minibatches\n",
    "        if i % 2000 == 1999:\n",
    "            print('[%d, %5d] loss: %.3f' %\n",
    "                  (epoch + 1, i + 1, running_loss / 2000))\n",
    "            running_loss = 0.0\n",
    "print('Training finished')"
   ]
  },
  {
   "cell_type": "markdown",
   "metadata": {},
   "source": [
    "### Training time will take about 20 minutes for 20 iterations. It shows that the CIFAR10 is a hard problem to train. It will increase the accuracy for 10 percent, but it takes great amount of time to achieve that."
   ]
  },
  {
   "cell_type": "markdown",
   "metadata": {},
   "source": [
    "# 3. Test the model with showing the predicted picture"
   ]
  },
  {
   "cell_type": "code",
   "execution_count": 7,
   "metadata": {},
   "outputs": [
    {
     "name": "stdout",
     "output_type": "stream",
     "text": [
      "Predicted:   cat  ship truck  ship\n"
     ]
    },
    {
     "data": {
      "image/png": "[encoded data removed]",
      "text/plain": [
       "<Figure size 1440x288 with 4 Axes>"
      ]
     },
     "metadata": {
      "needs_background": "light"
     },
     "output_type": "display_data"
    }
   ],
   "source": [
    "test_iterator = iter(test_loader)\n",
    "images, labels = test_iterator.next()\n",
    "\n",
    "results = net(images)\n",
    "_, predicted = torch.max(results, 1)\n",
    "\n",
    "print('Predicted:', ' '.join('%5s' % classes[predicted[j]] for j in range(4)))\n",
    "\n",
    "fig2 = plt.figure(figsize = (20,4))\n",
    "for i in range(4):\n",
    "    plt.subplot(rows, columns, i+1)\n",
    "    plt.title('true: ' + classes[labels[i]] + ', predict: ' + classes[predicted[i]], fontsize = 20)\n",
    "    img = images[i] / 2 + 0.5     # this is to unnormalize the image\n",
    "    img = torchvision.transforms.ToPILImage()(img)\n",
    "    plt.imshow(img)\n",
    "plt.show()"
   ]
  },
  {
   "cell_type": "markdown",
   "metadata": {},
   "source": [
    "## Test accuracy for all classes"
   ]
  },
  {
   "cell_type": "code",
   "execution_count": 8,
   "metadata": {},
   "outputs": [
    {
     "name": "stdout",
     "output_type": "stream",
     "text": [
      "Accuracy of the network on the 10000 test images: 62.4 %\n"
     ]
    }
   ],
   "source": [
    "correct = 0\n",
    "total = 0\n",
    "with torch.no_grad():\n",
    "    for data in test_loader:\n",
    "        images, labels = data\n",
    "        outputs = net(images)\n",
    "        _, predicted = torch.max(outputs, 1)\n",
    "        total = total + labels.size(0)\n",
    "        correct = correct + (predicted == labels).sum().item()\n",
    "\n",
    "print('Accuracy of the network on the 10000 test images: {} %'.format(100 * correct / total))"
   ]
  },
  {
   "cell_type": "code",
   "execution_count": 9,
   "metadata": {},
   "outputs": [
    {
     "name": "stdout",
     "output_type": "stream",
     "text": [
      "Accuracy of plane : 63 %\n",
      "Accuracy of   car : 78 %\n",
      "Accuracy of  bird : 49 %\n",
      "Accuracy of   cat : 40 %\n",
      "Accuracy of  deer : 64 %\n",
      "Accuracy of   dog : 45 %\n",
      "Accuracy of  frog : 64 %\n",
      "Accuracy of horse : 68 %\n",
      "Accuracy of  ship : 80 %\n",
      "Accuracy of truck : 70 %\n"
     ]
    }
   ],
   "source": [
    "class_correct = [0. for i in range(len(classes))]\n",
    "class_total = [0. for i in range(len(classes))]\n",
    "with torch.no_grad():\n",
    "    for data in test_loader:\n",
    "        images, labels = data\n",
    "        outputs = net(images)\n",
    "        _, predicted = torch.max(outputs, 1)\n",
    "        c = (predicted == labels).squeeze()\n",
    "        for i in range(4):\n",
    "            label = labels[i]\n",
    "            class_correct[label] = class_correct[label] + c[i].item()\n",
    "            class_total[label] = class_total[label] + 1\n",
    "\n",
    "\n",
    "for i in range(len(classes)):\n",
    "    print('Accuracy of %5s : %2d %%' % (classes[i], 100 * class_correct[i] / class_total[i]))"
   ]
  }
 ],
 "metadata": {
  "kernelspec": {
   "display_name": "Python 3",
   "language": "python",
   "name": "python3"
  },
  "language_info": {
   "codemirror_mode": {
    "name": "ipython",
    "version": 3
   },
   "file_extension": ".py",
   "mimetype": "text/x-python",
   "name": "python",
   "nbconvert_exporter": "python",
   "pygments_lexer": "ipython3",
   "version": "3.7.1"
  }
 },
 "nbformat": 4,
 "nbformat_minor": 2
}
