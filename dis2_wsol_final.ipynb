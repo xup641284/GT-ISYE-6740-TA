{
 "cells": [
  {
   "cell_type": "markdown",
   "metadata": {},
   "source": [
    "# Discussion 2: Fitting polynomials with linear regression and validation\n",
    "In this notebook, we will run polynomial regression on a simple dataset to understand how ridge regression and validation work. While we will import sklearn, our simulations will involve simple manipulations so that you can \"look under the hood\"."
   ]
  },
  {
   "cell_type": "code",
   "execution_count": 1,
   "metadata": {},
   "outputs": [],
   "source": [
    "#Setup. We won't use some of these but this is to encourage you to install the standard libraries.\n",
    "#If you see errors, try removing pandas (but install it later)\n",
    "import pandas as pd \n",
    "import numpy as np\n",
    "import matplotlib.pyplot as plt\n",
    "import random\n",
    "from sklearn import utils\n",
    "from sklearn.preprocessing import scale\n",
    "from sklearn import linear_model\n",
    "from sklearn.linear_model import Ridge"
   ]
  },
  {
   "cell_type": "markdown",
   "metadata": {},
   "source": [
    "Let us set up some helper functions to generate the data."
   ]
  },
  {
   "cell_type": "code",
   "execution_count": 2,
   "metadata": {},
   "outputs": [],
   "source": [
    "def gen_data(noise, num_train, num_test):\n",
    "    \"\"\"\n",
    "    generates training and test dataset with or without noise\n",
    "    input: noise (0 or 1)\n",
    "    output: Xtrain, Ytrain, Xtest, Ytest\n",
    "    \"\"\"\n",
    "    Ntrain = num_train\n",
    "    Ntest = num_test\n",
    "    # uniform distribution for Xtrain\n",
    "    Xtrain = np.random.uniform(-6,6,Ntrain) #feature is a real number drawn from the interval [-6, 6]\n",
    "    Ytrain = 10 * Xtrain**3+ 2*Xtrain**2 - 8*Xtrain #What polynomial is this?\n",
    "    Xtest = np.random.uniform(-6,6,Ntest)\n",
    "    Ytest = 10 * Xtest**3 + 2*Xtest**2 - 8*Xtest #Test data is noiseless for the moment\n",
    "    \n",
    "    if noise == 1:\n",
    "        Ytrain = Ytrain + np.random.normal(0,100,Ntrain)\n",
    "        # Uncomment the following two lines if you want a \"corruption\" model for the noise\n",
    "        #Ytrain[0] += 500\n",
    "        #Ytrain[Ntrain - 1] -= 200\n",
    "        \n",
    "    return {'Xtrain':Xtrain, 'Ytrain':Ytrain, 'Xtest':Xtest, 'Ytest':Ytest} #returns a dictionary of data points\n"
   ]
  },
  {
   "cell_type": "markdown",
   "metadata": {},
   "source": [
    "# Step 1\n",
    "\n",
    "Why is splitting data important to assess your fitted model? How is generalization/test error minimized, if at all?"
   ]
  },
  {
   "cell_type": "markdown",
   "metadata": {},
   "source": [
    "# Step 2\n",
    "\n",
    "Which polynomial is being used to generate the data? Plot the training data in the (x, y) plane.\n",
    "Comment on the noise process. Hint: Use `plt.scatter` and not `plt.plot`."
   ]
  },
  {
   "cell_type": "code",
   "execution_count": 3,
   "metadata": {},
   "outputs": [
    {
     "data": {
      "text/plain": [
       "<matplotlib.collections.PathCollection at 0x22ee3a6ca90>"
      ]
     },
     "execution_count": 3,
     "metadata": {},
     "output_type": "execute_result"
    },
    {
     "data": {
      "image/png": "[encoded data removed]",
      "text/plain": [
       "<Figure size 432x288 with 1 Axes>"
      ]
     },
     "metadata": {
      "needs_background": "light"
     },
     "output_type": "display_data"
    }
   ],
   "source": [
    "%matplotlib inline\n",
    "### Start your solution ###\n",
    "data = gen_data(1, 500, 200)\n",
    "\n",
    "plt.scatter(data['Xtrain'], data['Ytrain'])\n",
    "### End your solution ###"
   ]
  },
  {
   "cell_type": "code",
   "execution_count": 4,
   "metadata": {},
   "outputs": [],
   "source": [
    "### find y given x and w for a polynomial evaluation, i.e., compute sum_{i=0}^{degree} w_i x^i\n",
    "def find_y(x,w):\n",
    "    r = []\n",
    "    degree = len(w)\n",
    "    for i in range(len(x)):\n",
    "        temp = 0\n",
    "        for j in range(degree):\n",
    "            temp = temp+w[j]*(x[i]**j)\n",
    "        r = r+[temp]\n",
    "    return r"
   ]
  },
  {
   "cell_type": "code",
   "execution_count": 5,
   "metadata": {},
   "outputs": [],
   "source": [
    "Ntrain = len(data['Xtrain'])\n",
    "Ntest = len(data['Xtest'])\n",
    "Xtrain = np.asmatrix(data['Xtrain'])\n",
    "Ytrain = np.asmatrix(data['Ytrain'])\n",
    "Xtest = np.asmatrix(data['Xtest'])\n",
    "Ytest = np.asmatrix(data['Ytest'])\n",
    "\n",
    "for i in range(3):\n",
    "        if i==0: #Intercept term\n",
    "            X = [1]*Ntrain\n",
    "            Xt = [1]*Ntest\n",
    "        else:\n",
    "            X = np.vstack([X,np.power(Xtrain,i)])\n",
    "            Xt = np.vstack([Xt,np.power(Xtest,i)])"
   ]
  },
  {
   "cell_type": "code",
   "execution_count": 6,
   "metadata": {},
   "outputs": [],
   "source": [
    "### regression: fit, plot, and error on test set\n",
    "def my_regression(data,D,a,plot=False):\n",
    "    \"\"\"\n",
    "    Fits polynomial regression or ridge regression to dataset, plot the results, and calculates training\n",
    "    and test errors\n",
    "    Inputs: data= dictionary, D = degree of polynomial, a = ridge regression parameter\n",
    "    If a == 0 it means ordinary polynomial regression\n",
    "    Output: Dictionary training error, test error (square root of MSE) and weights\n",
    "    \"\"\"\n",
    "    Ntrain = len(data['Xtrain'])\n",
    "    Ntest = len(data['Xtest'])\n",
    "    Xtrain = np.asmatrix(data['Xtrain'])\n",
    "    Ytrain = np.asmatrix(data['Ytrain'])\n",
    "    Xtest = np.asmatrix(data['Xtest'])\n",
    "    Ytest = np.asmatrix(data['Ytest'])\n",
    "    \n",
    "\n",
    "    Ytrain = Ytrain.transpose() #Format in which it is expected for regression later on\n",
    "    Ytest = Ytest.transpose() #Format in which it is expected for regression later on\n",
    "    \n",
    "    # preparing for polynomial\n",
    "    for i in range(D+1):\n",
    "        if i==0: #Intercept term\n",
    "            X = [1]*Ntrain\n",
    "            Xt = [1]*Ntest\n",
    "        else:\n",
    "            X = np.vstack([X,np.power(Xtrain,i)])\n",
    "            Xt = np.vstack([Xt,np.power(Xtest,i)])\n",
    "    X = X.transpose()\n",
    "    Xt = Xt.transpose() #test feature vectors\n",
    "    \n",
    "    reg = linear_model.Ridge (alpha = a) \n",
    "    #Note that if a = 0, you could have run a simple linear regression (see documentation for sklearn.linear_model.LinearRegression)\n",
    "    reg.fit(X,Ytrain)\n",
    "    predictions = reg.predict(Xt)\n",
    "    Rtest = np.linalg.norm(predictions-Ytest) #test error, note that this is the RMSE\n",
    "    predictions = reg.predict(X)\n",
    "    Rtrain = np.linalg.norm(predictions-Ytrain) #training error, note that this is the RMSE\n",
    "    w = reg.coef_.tolist()[0] # coefficients\n",
    "    \n",
    "    if plot:\n",
    "        # plots\n",
    "        x = np.linspace(-5,5,1000)\n",
    "        \n",
    "        # try to understand find_y()\n",
    "        \n",
    "        y = find_y(x,w)\n",
    "        \n",
    "        # subplot 2 rows 1 column 1 index\n",
    "        \n",
    "        plt.subplot(211)\n",
    "        plt.scatter(data['Xtrain'], data['Ytrain'])\n",
    "        plt.plot(x,y)\n",
    "        plt.title('training samples and regression')\n",
    "        plt.show()\n",
    "\n",
    "        x = np.linspace(-5,5,1000)\n",
    "        \n",
    "        # try to understand find_y()\n",
    "        \n",
    "        y = find_y(x,w)\n",
    "        \n",
    "        # subplot 2 rows 1 column 2 index\n",
    "        \n",
    "        plt.subplot(212)\n",
    "        plt.scatter(data['Xtest'], data['Ytest'])\n",
    "        plt.plot(x,y)\n",
    "        plt.title('test samples and regression')\n",
    "        plt.show()\n",
    "    \n",
    "    return {'weights':w,'TrainingError':Rtrain/np.sqrt(Ntrain), 'TestError':Rtest/np.sqrt(Ntest)}"
   ]
  },
  {
   "cell_type": "code",
   "execution_count": 7,
   "metadata": {},
   "outputs": [
    {
     "name": "stdout",
     "output_type": "stream",
     "text": [
      "[    4.43414955    33.19560005 -1685.07917344   256.13620599\n",
      "  -654.64991137    58.2933278    -12.5422602      8.54416615\n",
      " -1327.10442666  -314.0639573 ]\n"
     ]
    }
   ],
   "source": [
    "data = gen_data(1, 20, 10) # generating training data with noise, noiseless test data. Change samples for train and test.\n",
    "print(data['Ytest']) #Just to eyeball the values"
   ]
  },
  {
   "cell_type": "markdown",
   "metadata": {},
   "source": [
    "# Step 3\n",
    "\n",
    "Let's examine the model's aptitude for predicting training data as opposed to test data. Use the `my_regression` function below to visualize the model. Vary the value of the degree D and see what happens visually. Take a look inside that block to make sure you understand what is happening!"
   ]
  },
  {
   "cell_type": "code",
   "execution_count": 8,
   "metadata": {},
   "outputs": [
    {
     "name": "stderr",
     "output_type": "stream",
     "text": [
      "C:\\Users\\xup641284\\Anaconda3\\lib\\site-packages\\sklearn\\linear_model\\_ridge.py:190: UserWarning: Singular matrix in solving dual problem. Using least-squares solution instead.\n",
      "  warnings.warn(\"Singular matrix in solving dual problem. Using \"\n"
     ]
    },
    {
     "data": {
      "image/png": "[encoded data removed]",
      "text/plain": [
       "<Figure size 432x288 with 1 Axes>"
      ]
     },
     "metadata": {
      "needs_background": "light"
     },
     "output_type": "display_data"
    },
    {
     "data": {
      "image/png": "[encoded data removed]",
      "text/plain": [
       "<Figure size 432x288 with 1 Axes>"
      ]
     },
     "metadata": {
      "needs_background": "light"
     },
     "output_type": "display_data"
    }
   ],
   "source": [
    "### Start your solution ###\n",
    "# Make sure to plot=True!\n",
    "data = gen_data(1, 10, 5)\n",
    "result = my_regression(data, D=10, a=0, plot=True) #Fitting your training data with a polynomial of degree D. Change D!\n",
    "### End your solution ###"
   ]
  },
  {
   "cell_type": "markdown",
   "metadata": {},
   "source": [
    "## Step 4\n",
    "\n",
    "In the following cell, modify the `regression_with_validation` function to split your training data into 70/30 for training and validation.\n",
    "\n",
    "We start by providing the code for shuffling two lists in unison."
   ]
  },
  {
   "cell_type": "code",
   "execution_count": 9,
   "metadata": {},
   "outputs": [],
   "source": [
    "def regression_with_validation(data, D, a, t=0.7, plot=False):\n",
    "    \"\"\"\n",
    "    Fits polynomial regression or ridge regression to dataset. \n",
    "    Inputs: data= dictionary, D = degree of polynomial, alpha = ridge regression parameter,\n",
    "    t is %age of data to use for training, and the rest for validation.\n",
    "    If alpha == 0 it means ordinary polynomial regression\n",
    "    Output: Dictionary training error, test error (square root of MSE) and weights\n",
    "    \"\"\"\n",
    "    all_x = np.array(data['Xtrain'])\n",
    "    all_y = np.array(data['Ytrain'])\n",
    "    \n",
    "    n_total = len(all_x)\n",
    "    Ntrain = int(t * n_total)\n",
    "    Nval = n_total - Ntrain\n",
    "    #The above quantities are arrays that we need to randomly split into t% for training, and (100-t)% for validation.\n",
    "    #Store your result in the *arrays* arr_train_x, arr_train_y, arr_val_x, and arr_val_y\n",
    "    \n",
    "    ### Start your solution ###\n",
    "    x_shuffled, y_shuffled = utils.shuffle(all_x, all_y) #Shuffles x and y arrays in unison\n",
    "    arr_train_x = x_shuffled[:Ntrain]\n",
    "    arr_train_y = y_shuffled[:Ntrain]\n",
    "    arr_val_x = x_shuffled[Ntrain:]\n",
    "    arr_val_y = y_shuffled[Ntrain:]\n",
    "    ### End your solution ###\n",
    "    \n",
    "    Xtrain = np.asmatrix(arr_train_x)\n",
    "    Ytrain = np.asmatrix(arr_train_y)\n",
    "    \n",
    "    Xval = np.asmatrix(arr_val_x)\n",
    "    Yval = np.asmatrix(arr_val_y)\n",
    "    \n",
    "    Ntest = len(data['Xtest'])\n",
    "    Xtest = np.asmatrix(data['Xtest'])\n",
    "    Ytest = np.asmatrix(data['Ytest'])\n",
    "    \n",
    "    \n",
    "    \n",
    "    Ytrain = Ytrain.transpose() # The transpose puts a response on each row.\n",
    "    Ytest = Ytest.transpose()\n",
    "    Yval = Yval.transpose()\n",
    "    \n",
    "    \n",
    "    # preparing for polynomial\n",
    "    for i in range(D+1):\n",
    "        if i==0:\n",
    "            X = [1] * Ntrain\n",
    "            Xv = [1] * Nval\n",
    "            Xt = [1] * Ntest\n",
    "        else:\n",
    "            X = np.vstack([X,np.power(Xtrain,i)])\n",
    "            Xv = np.vstack([Xv,np.power(Xval,i)])\n",
    "            Xt = np.vstack([Xt,np.power(Xtest,i)])\n",
    "    X = X.transpose() #transpose puts each data point on a row of the matrix, as desired\n",
    "    Xv = Xv.transpose()\n",
    "    Xt = Xt.transpose()\n",
    "    \n",
    "    reg = linear_model.Ridge (alpha = a)\n",
    "    reg.fit(X,Ytrain)\n",
    "    test_predictions = reg.predict(Xt)\n",
    "    Rtest = np.linalg.norm(test_predictions-Ytest) #test error, note that this is the RMSE\n",
    "    train_predictions = reg.predict(X)\n",
    "    Rtrain = np.linalg.norm(train_predictions-Ytrain) #training error, note that this is the RMSE\n",
    "    \n",
    "    val_predictions = reg.predict(Xv)\n",
    "    Rval = np.linalg.norm(val_predictions-Yval) #validation error, note that this is the RMSE\n",
    "    w = reg.coef_.tolist()[0] # coefficients\n",
    "    \n",
    "    \n",
    "    # plots\n",
    "    if plot == True:\n",
    "        x = np.linspace(-5,5,1000)\n",
    "        y = find_y(x,w)\n",
    "        plt.subplot(211)\n",
    "        plt.scatter(arr_train_x, arr_train_y)\n",
    "        plt.plot(x,y)\n",
    "        plt.title('training samples and regression')\n",
    "        plt.show()\n",
    "\n",
    "        x = np.linspace(-5,5,1000)\n",
    "        y = find_y(x,w)\n",
    "        plt.subplot(212)\n",
    "        plt.scatter(arr_val_x, arr_val_y)\n",
    "        plt.plot(x,y)\n",
    "        plt.title('validation samples and regression')\n",
    "        plt.show()\n",
    "    \n",
    "    return {'weights':w,'TrainingError':Rtrain/np.sqrt(Ntrain), 'ValError':Rval/np.sqrt(Nval), 'TestError':Rtest/np.sqrt(Ntest)}"
   ]
  },
  {
   "cell_type": "markdown",
   "metadata": {},
   "source": [
    "# Step 5\n",
    "\n",
    "Let's examine the mode's aptitude for predicting training data as opposed to test data. Use the `regression_with_validation` function to visualize the model."
   ]
  },
  {
   "cell_type": "code",
   "execution_count": 10,
   "metadata": {},
   "outputs": [],
   "source": [
    "data = gen_data(1, 60, 15) #Decrease number of samples to see effect."
   ]
  },
  {
   "cell_type": "code",
   "execution_count": 11,
   "metadata": {},
   "outputs": [
    {
     "data": {
      "image/png": "[encoded data removed]",
      "text/plain": [
       "<Figure size 432x288 with 1 Axes>"
      ]
     },
     "metadata": {
      "needs_background": "light"
     },
     "output_type": "display_data"
    },
    {
     "data": {
      "image/png": "[encoded data removed]",
      "text/plain": [
       "<Figure size 432x288 with 1 Axes>"
      ]
     },
     "metadata": {
      "needs_background": "light"
     },
     "output_type": "display_data"
    }
   ],
   "source": [
    "result = regression_with_validation(data, 20, 0, t=0.7, plot=True) #Change the model degree and regularization."
   ]
  },
  {
   "cell_type": "markdown",
   "metadata": {},
   "source": [
    "# Step 6\n",
    "\n",
    "Now, try plotting the training, test, and validation errors (in the same graph) as a function of the polynomial degree."
   ]
  },
  {
   "cell_type": "code",
   "execution_count": 25,
   "metadata": {
    "scrolled": true
   },
   "outputs": [
    {
     "data": {
      "text/plain": [
       "<matplotlib.legend.Legend at 0x22ee508c4a8>"
      ]
     },
     "execution_count": 25,
     "metadata": {},
     "output_type": "execute_result"
    },
    {
     "data": {
      "image/png": "[encoded data removed]",
      "text/plain": [
       "<Figure size 432x288 with 1 Axes>"
      ]
     },
     "metadata": {
      "needs_background": "light"
     },
     "output_type": "display_data"
    }
   ],
   "source": [
    "degrees = range(1, 6)\n",
    "\n",
    "# Array containing all RMSE errors \n",
    "\n",
    "val_errors = np.zeros(len(degrees))\n",
    "train_errors = np.zeros(len(degrees))\n",
    "test_errors = np.zeros(len(degrees))\n",
    "\n",
    "reps = 100 #Number of repetitions of this experiment, so you can get a reasonable idea of train/test/val errors\n",
    "### Start your solution ###\n",
    "for rep in range(reps):\n",
    "    for degree in degrees:\n",
    "        result = regression_with_validation(data, degree, 0, t=0.7, plot=False)\n",
    "        val_errors[degree-1]+= float(result['ValError']) / reps\n",
    "        train_errors[degree-1]+= float(result['TrainingError']) / reps\n",
    "        test_errors[degree-1]+= float(result['TestError']) / reps\n",
    "### End your solution ###\n",
    "\n",
    "plt.plot(degrees, train_errors, 'g')\n",
    "plt.plot(degrees, val_errors, 'r')\n",
    "plt.plot(degrees, test_errors, 'b')\n",
    "plt.legend([\"Train Error\", \"Val Error\", \"Test Error\"], loc = \"best\")"
   ]
  },
  {
   "cell_type": "markdown",
   "metadata": {
    "collapsed": true
   },
   "source": [
    "Run this a few times to get an idea of the \"generic\" behavior. Zoom into the curves to get a better idea.\n",
    "\n",
    "What would you expect these curves to look like and does the plot match your intuition? Which is the better proxy for test error? Training error or validation error?"
   ]
  }
 ],
 "metadata": {
  "kernelspec": {
   "display_name": "Python 3",
   "language": "python",
   "name": "python3"
  },
  "language_info": {
   "codemirror_mode": {
    "name": "ipython",
    "version": 3
   },
   "file_extension": ".py",
   "mimetype": "text/x-python",
   "name": "python",
   "nbconvert_exporter": "python",
   "pygments_lexer": "ipython3",
   "version": "3.7.1"
  }
 },
 "nbformat": 4,
 "nbformat_minor": 1
}
